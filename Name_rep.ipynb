{
 "cells": [
  {
   "cell_type": "code",
   "execution_count": 1,
   "metadata": {},
   "outputs": [
    {
     "name": "stdout",
     "output_type": "stream",
     "text": [
      "What is your name:Jane\n",
      "I am Jane\n"
     ]
    }
   ],
   "source": [
    "name = input('What is your name:')\n",
    "print(f'I am {name}')"
   ]
  },
  {
   "cell_type": "code",
   "execution_count": 4,
   "metadata": {},
   "outputs": [
    {
     "name": "stdout",
     "output_type": "stream",
     "text": [
      "What is your score:98\n",
      "I scored 98 marks\n"
     ]
    }
   ],
   "source": [
    "Marks = int(input(\"What is your score:\"))\n",
    "print(f'I scored {Marks} marks')"
   ]
  },
  {
   "cell_type": "code",
   "execution_count": 26,
   "metadata": {},
   "outputs": [
    {
     "name": "stdout",
     "output_type": "stream",
     "text": [
      "(i)*(j) = (i*j)\n",
      "\n",
      "(i)*(j) = (i*j)\n",
      "\n",
      "(i)*(j) = (i*j)\n",
      "\n",
      "(i)*(j) = (i*j)\n",
      "\n",
      "(i)*(j) = (i*j)\n",
      "\n",
      "(i)*(j) = (i*j)\n",
      "\n",
      "(i)*(j) = (i*j)\n",
      "\n",
      "(i)*(j) = (i*j)\n",
      "\n",
      "(i)*(j) = (i*j)\n",
      "\n",
      "(i)*(j) = (i*j)\n",
      "\n",
      "(i)*(j) = (i*j)\n",
      "\n",
      "(i)*(j) = (i*j)\n",
      "\n",
      "(i)*(j) = (i*j)\n",
      "\n",
      "(i)*(j) = (i*j)\n",
      "\n",
      "(i)*(j) = (i*j)\n",
      "\n",
      "(i)*(j) = (i*j)\n",
      "\n",
      "(i)*(j) = (i*j)\n",
      "\n",
      "(i)*(j) = (i*j)\n",
      "\n",
      "(i)*(j) = (i*j)\n",
      "\n",
      "(i)*(j) = (i*j)\n",
      "\n",
      "(i)*(j) = (i*j)\n",
      "\n",
      "(i)*(j) = (i*j)\n",
      "\n",
      "(i)*(j) = (i*j)\n",
      "\n",
      "(i)*(j) = (i*j)\n",
      "\n",
      "(i)*(j) = (i*j)\n",
      "\n",
      "(i)*(j) = (i*j)\n",
      "\n",
      "(i)*(j) = (i*j)\n",
      "\n",
      "(i)*(j) = (i*j)\n",
      "\n",
      "(i)*(j) = (i*j)\n",
      "\n",
      "(i)*(j) = (i*j)\n",
      "\n",
      "(i)*(j) = (i*j)\n",
      "\n",
      "(i)*(j) = (i*j)\n",
      "\n",
      "(i)*(j) = (i*j)\n",
      "\n",
      "(i)*(j) = (i*j)\n",
      "\n",
      "(i)*(j) = (i*j)\n",
      "\n",
      "(i)*(j) = (i*j)\n",
      "\n",
      "(i)*(j) = (i*j)\n",
      "\n",
      "(i)*(j) = (i*j)\n",
      "\n",
      "(i)*(j) = (i*j)\n",
      "\n",
      "(i)*(j) = (i*j)\n",
      "\n",
      "(i)*(j) = (i*j)\n",
      "\n",
      "(i)*(j) = (i*j)\n",
      "\n",
      "(i)*(j) = (i*j)\n",
      "\n",
      "(i)*(j) = (i*j)\n",
      "\n",
      "(i)*(j) = (i*j)\n",
      "\n",
      "(i)*(j) = (i*j)\n",
      "\n",
      "(i)*(j) = (i*j)\n",
      "\n",
      "(i)*(j) = (i*j)\n",
      "\n",
      "(i)*(j) = (i*j)\n",
      "\n",
      "(i)*(j) = (i*j)\n",
      "\n",
      "(i)*(j) = (i*j)\n",
      "\n",
      "(i)*(j) = (i*j)\n",
      "\n",
      "(i)*(j) = (i*j)\n",
      "\n",
      "(i)*(j) = (i*j)\n",
      "\n",
      "(i)*(j) = (i*j)\n",
      "\n"
     ]
    }
   ],
   "source": [
    "for i in range(1,6):\n",
    "    for j in range(0,11):\n",
    "        print(f\"(i)*(j) = (i*j)\")\n",
    "        print()"
   ]
  },
  {
   "cell_type": "code",
   "execution_count": null,
   "metadata": {},
   "outputs": [],
   "source": []
  }
 ],
 "metadata": {
  "kernelspec": {
   "display_name": "Python (learn-env)",
   "language": "python",
   "name": "learn-env"
  },
  "language_info": {
   "codemirror_mode": {
    "name": "ipython",
    "version": 3
   },
   "file_extension": ".py",
   "mimetype": "text/x-python",
   "name": "python",
   "nbconvert_exporter": "python",
   "pygments_lexer": "ipython3",
   "version": "3.8.5"
  }
 },
 "nbformat": 4,
 "nbformat_minor": 4
}
